{
  "nbformat": 4,
  "nbformat_minor": 0,
  "metadata": {
    "colab": {
      "provenance": []
    },
    "kernelspec": {
      "name": "python3",
      "display_name": "Python 3"
    },
    "language_info": {
      "name": "python"
    }
  },
  "cells": [
    {
      "cell_type": "markdown",
      "source": [
        "                                                                  DATA TOOLKIT\n",
        "                                                                  ASSIGNMENT\n",
        "                                                               PRACTICAL QUESTIONS"
      ],
      "metadata": {
        "id": "gmyp8B3YCucf"
      }
    },
    {
      "cell_type": "markdown",
      "source": [
        "1. Create a 3x3 NumPy array with random integers between 1 and 100. Then, interchange its rows and columns."
      ],
      "metadata": {
        "id": "aWJNTYhBDJ5K"
      }
    },
    {
      "cell_type": "code",
      "source": [
        "import numpy as np\n",
        "\n",
        "# Create a 3x3 array with random integers from 1 to 100\n",
        "arr = np.random.randint(1, 101, size=(3, 3))\n",
        "print(\"Original Array:\\n\", arr)\n",
        "\n",
        "# Interchange rows and columns (transpose the array)\n",
        "transposed_arr = arr.T\n",
        "print(\"Transposed Array:\\n\", transposed_arr)\n"
      ],
      "metadata": {
        "colab": {
          "base_uri": "https://localhost:8080/"
        },
        "id": "IJKR7ObUDOaz",
        "outputId": "ed8a8b61-1711-4c28-cdb4-9798b8846e9f"
      },
      "execution_count": 1,
      "outputs": [
        {
          "output_type": "stream",
          "name": "stdout",
          "text": [
            "Original Array:\n",
            " [[17 28 63]\n",
            " [33 79 41]\n",
            " [48 50 73]]\n",
            "Transposed Array:\n",
            " [[17 33 48]\n",
            " [28 79 50]\n",
            " [63 41 73]]\n"
          ]
        }
      ]
    },
    {
      "cell_type": "markdown",
      "source": [
        "2. Generate a 1D NumPy array with 10 elements. Reshape it into a 2x5 array, then into a 5x2 array."
      ],
      "metadata": {
        "id": "5hHDPRvSDdJp"
      }
    },
    {
      "cell_type": "code",
      "source": [
        "# Create a 1D array with 10 elements\n",
        "arr = np.arange(1, 11)\n",
        "print(\"1D Array:\\n\", arr)\n",
        "\n",
        "# Reshape it to 2x5\n",
        "arr_2x5 = arr.reshape(2, 5)\n",
        "print(\"2x5 Array:\\n\", arr_2x5)\n",
        "\n",
        "# Reshape it to 5x2\n",
        "arr_5x2 = arr.reshape(5, 2)\n",
        "print(\"5x2 Array:\\n\", arr_5x2)\n"
      ],
      "metadata": {
        "colab": {
          "base_uri": "https://localhost:8080/"
        },
        "id": "8eTzZAQHDh4d",
        "outputId": "2966985c-074b-457a-cb0e-f86e914fc257"
      },
      "execution_count": 2,
      "outputs": [
        {
          "output_type": "stream",
          "name": "stdout",
          "text": [
            "1D Array:\n",
            " [ 1  2  3  4  5  6  7  8  9 10]\n",
            "2x5 Array:\n",
            " [[ 1  2  3  4  5]\n",
            " [ 6  7  8  9 10]]\n",
            "5x2 Array:\n",
            " [[ 1  2]\n",
            " [ 3  4]\n",
            " [ 5  6]\n",
            " [ 7  8]\n",
            " [ 9 10]]\n"
          ]
        }
      ]
    },
    {
      "cell_type": "markdown",
      "source": [
        "3. Create a 4x4 NumPy array with random float values. Add a border of zeros around it, resulting in a 6x6 array."
      ],
      "metadata": {
        "id": "dNChm4O9DlbZ"
      }
    },
    {
      "cell_type": "code",
      "source": [
        "# Create a 4x4 array with random float values\n",
        "arr = np.random.rand(4, 4)\n",
        "print(\"4x4 Array:\\n\", arr)\n",
        "\n",
        "# Add a border of zeros\n",
        "arr_with_border = np.pad(arr, pad_width=1, mode='constant', constant_values=0)\n",
        "print(\"6x6 Array with Border:\\n\", arr_with_border)\n"
      ],
      "metadata": {
        "colab": {
          "base_uri": "https://localhost:8080/"
        },
        "id": "S1FMLqB9DoCl",
        "outputId": "d8bc496d-5882-43cf-a406-292dc178ac69"
      },
      "execution_count": 3,
      "outputs": [
        {
          "output_type": "stream",
          "name": "stdout",
          "text": [
            "4x4 Array:\n",
            " [[0.47665959 0.0414691  0.36665495 0.40819273]\n",
            " [0.26006241 0.64712852 0.00836361 0.19908994]\n",
            " [0.32786447 0.00957605 0.7304185  0.95909599]\n",
            " [0.68844064 0.60241346 0.91517    0.23760039]]\n",
            "6x6 Array with Border:\n",
            " [[0.         0.         0.         0.         0.         0.        ]\n",
            " [0.         0.47665959 0.0414691  0.36665495 0.40819273 0.        ]\n",
            " [0.         0.26006241 0.64712852 0.00836361 0.19908994 0.        ]\n",
            " [0.         0.32786447 0.00957605 0.7304185  0.95909599 0.        ]\n",
            " [0.         0.68844064 0.60241346 0.91517    0.23760039 0.        ]\n",
            " [0.         0.         0.         0.         0.         0.        ]]\n"
          ]
        }
      ]
    },
    {
      "cell_type": "markdown",
      "source": [
        "4. Using NumPy, create an array of integers from 10 to 60 with a step of 5."
      ],
      "metadata": {
        "id": "Uj3JzxwoDqNy"
      }
    },
    {
      "cell_type": "code",
      "source": [
        "# Create an array from 10 to 60 with a step of 5\n",
        "arr = np.arange(10, 61, 5)\n",
        "print(\"Array from 10 to 60 with step of 5:\\n\", arr)\n"
      ],
      "metadata": {
        "colab": {
          "base_uri": "https://localhost:8080/"
        },
        "id": "jRJybne9DuCf",
        "outputId": "4fbefbc8-10d8-4f2f-8cca-6ba9b46c9fe4"
      },
      "execution_count": 4,
      "outputs": [
        {
          "output_type": "stream",
          "name": "stdout",
          "text": [
            "Array from 10 to 60 with step of 5:\n",
            " [10 15 20 25 30 35 40 45 50 55 60]\n"
          ]
        }
      ]
    },
    {
      "cell_type": "markdown",
      "source": [
        "5. Create a NumPy array of strings ['python', 'numpy', 'pandas']. Apply different case transformations (uppercase, lowercase, title case, etc.) to each element."
      ],
      "metadata": {
        "id": "z0LlVfIcD1t4"
      }
    },
    {
      "cell_type": "code",
      "source": [
        "# Create an array of strings\n",
        "arr = np.array(['python', 'numpy', 'pandas'])\n",
        "\n",
        "# Apply uppercase, lowercase, and title case transformations\n",
        "uppercase = np.char.upper(arr)\n",
        "lowercase = np.char.lower(arr)\n",
        "titlecase = np.char.title(arr)\n",
        "\n",
        "print(\"Uppercase:\\n\", uppercase)\n",
        "print(\"Lowercase:\\n\", lowercase)\n",
        "print(\"Title Case:\\n\", titlecase)\n"
      ],
      "metadata": {
        "colab": {
          "base_uri": "https://localhost:8080/"
        },
        "id": "QkRSqPamD4K5",
        "outputId": "8ce135a8-f6ec-4b72-bf87-8907750e67c4"
      },
      "execution_count": 5,
      "outputs": [
        {
          "output_type": "stream",
          "name": "stdout",
          "text": [
            "Uppercase:\n",
            " ['PYTHON' 'NUMPY' 'PANDAS']\n",
            "Lowercase:\n",
            " ['python' 'numpy' 'pandas']\n",
            "Title Case:\n",
            " ['Python' 'Numpy' 'Pandas']\n"
          ]
        }
      ]
    },
    {
      "cell_type": "markdown",
      "source": [
        "6. Generate a NumPy array of words. Insert a space between each character of every word in the array."
      ],
      "metadata": {
        "id": "DGypCEuTD8Ry"
      }
    },
    {
      "cell_type": "code",
      "source": [
        "# Create an array of words\n",
        "arr = np.array(['apple', 'banana', 'cherry'])\n",
        "\n",
        "# Insert a space between each character\n",
        "spaced_arr = np.char.join(\" \", arr)\n",
        "print(\"Array with spaced characters:\\n\", spaced_arr)\n"
      ],
      "metadata": {
        "colab": {
          "base_uri": "https://localhost:8080/"
        },
        "id": "1as-eHyLD89T",
        "outputId": "62d0f3df-99cb-40f0-cf1c-8ae6ab73c9e1"
      },
      "execution_count": 6,
      "outputs": [
        {
          "output_type": "stream",
          "name": "stdout",
          "text": [
            "Array with spaced characters:\n",
            " ['a p p l e' 'b a n a n a' 'c h e r r y']\n"
          ]
        }
      ]
    },
    {
      "cell_type": "markdown",
      "source": [
        "7. Create two 2D NumPy arrays and perform element-wise addition, subtraction, multiplication, and division."
      ],
      "metadata": {
        "id": "AhHAAltiEEUM"
      }
    },
    {
      "cell_type": "code",
      "source": [
        "# Create two 2D arrays\n",
        "arr1 = np.array([[1, 2], [3, 4]])\n",
        "arr2 = np.array([[5, 6], [7, 8]])\n",
        "\n",
        "# Perform element-wise operations\n",
        "add = arr1 + arr2\n",
        "subtract = arr1 - arr2\n",
        "multiply = arr1 * arr2\n",
        "divide = arr1 / arr2\n",
        "\n",
        "print(\"Addition:\\n\", add)\n",
        "print(\"Subtraction:\\n\", subtract)\n",
        "print(\"Multiplication:\\n\", multiply)\n",
        "print(\"Division:\\n\", divide)\n"
      ],
      "metadata": {
        "colab": {
          "base_uri": "https://localhost:8080/"
        },
        "id": "PSziH7ySEHRq",
        "outputId": "1d2a5c9d-8ec0-4850-d25b-0fed5cf525ee"
      },
      "execution_count": 7,
      "outputs": [
        {
          "output_type": "stream",
          "name": "stdout",
          "text": [
            "Addition:\n",
            " [[ 6  8]\n",
            " [10 12]]\n",
            "Subtraction:\n",
            " [[-4 -4]\n",
            " [-4 -4]]\n",
            "Multiplication:\n",
            " [[ 5 12]\n",
            " [21 32]]\n",
            "Division:\n",
            " [[0.2        0.33333333]\n",
            " [0.42857143 0.5       ]]\n"
          ]
        }
      ]
    },
    {
      "cell_type": "markdown",
      "source": [
        "8. Use NumPy to create a 5x5 identity matrix, then extract its diagonal elements."
      ],
      "metadata": {
        "id": "BrwN67UHEMv6"
      }
    },
    {
      "cell_type": "code",
      "source": [
        "# Create a 5x5 identity matrix\n",
        "identity_matrix = np.eye(5)\n",
        "print(\"5x5 Identity Matrix:\\n\", identity_matrix)\n",
        "\n",
        "# Extract the diagonal elements\n",
        "diagonal_elements = np.diag(identity_matrix)\n",
        "print(\"Diagonal Elements:\\n\", diagonal_elements)\n"
      ],
      "metadata": {
        "colab": {
          "base_uri": "https://localhost:8080/"
        },
        "id": "x_eCXiqNEPAQ",
        "outputId": "affe3a3a-c4d5-4dfc-cf71-01e2619eb845"
      },
      "execution_count": 8,
      "outputs": [
        {
          "output_type": "stream",
          "name": "stdout",
          "text": [
            "5x5 Identity Matrix:\n",
            " [[1. 0. 0. 0. 0.]\n",
            " [0. 1. 0. 0. 0.]\n",
            " [0. 0. 1. 0. 0.]\n",
            " [0. 0. 0. 1. 0.]\n",
            " [0. 0. 0. 0. 1.]]\n",
            "Diagonal Elements:\n",
            " [1. 1. 1. 1. 1.]\n"
          ]
        }
      ]
    },
    {
      "cell_type": "markdown",
      "source": [
        "9. Generate a NumPy array of 100 random integers between 0 and 1000. Find and display all prime numbers in this array."
      ],
      "metadata": {
        "id": "7t6Y-tKPEUYr"
      }
    },
    {
      "cell_type": "code",
      "source": [
        "from sympy import isprime\n",
        "\n",
        "# Generate an array of 100 random integers between 0 and 1000\n",
        "arr = np.random.randint(0, 1001, 100)\n",
        "print(\"Array:\\n\", arr)\n",
        "\n",
        "# Find and display all prime numbers in the array\n",
        "primes = arr[np.vectorize(isprime)(arr)]\n",
        "print(\"Prime Numbers:\\n\", primes)\n"
      ],
      "metadata": {
        "colab": {
          "base_uri": "https://localhost:8080/"
        },
        "id": "oGL_sYP0EZD2",
        "outputId": "af1360f4-99fd-46a6-ac9c-d25594aebbee"
      },
      "execution_count": 9,
      "outputs": [
        {
          "output_type": "stream",
          "name": "stdout",
          "text": [
            "Array:\n",
            " [438 949  79 296 349 992 422 621 571 459 502 725 206  43   2 506 917  33\n",
            " 103 325 567 967  89 932 758 170 830 687 806 427 933 705  54 279 954 641\n",
            " 704 421 697 279  16  26 317 709 557 122  27 288 632  80 167 878 535   8\n",
            " 406 337 223 273 238 340 114 424 166 218 273 199  10 722 647  51 418  52\n",
            " 313 421 486  73 820 540 552 269 679 205 555 765 841   8 960 179 313 560\n",
            " 771 444 172 450 606 803  16 660 461 286]\n",
            "Prime Numbers:\n",
            " [ 79 349 571  43   2 103 967  89 641 421 317 709 557 167 337 223 199 647\n",
            " 313 421  73 269 179 313 461]\n"
          ]
        }
      ]
    },
    {
      "cell_type": "markdown",
      "source": [
        "10. Create a NumPy array representing daily temperatures for a month. Calculate and display the weekly averages."
      ],
      "metadata": {
        "id": "bGAn7fEPEdwv"
      }
    },
    {
      "source": [
        "# Create an array with 30 random daily temperatures\n",
        "temperatures = np.random.randint(20, 35, 30)\n",
        "print(\"Daily Temperatures:\\n\", temperatures)\n",
        "\n",
        "# Reshape it into a compatible shape, for example, 5 weeks of 6 days (5 * 6 = 30)\n",
        "weekly_temperatures = temperatures.reshape(5, 6)\n",
        "# or  6 weeks of 5 days (6 * 5 = 30)\n",
        "# weekly_temperatures = temperatures.reshape(6, 5)\n",
        "\n",
        "# Calculate weekly averages\n",
        "weekly_averages = np.mean(weekly_temperatures, axis=1)\n",
        "print(\"Weekly Averages:\\n\", weekly_averages)"
      ],
      "cell_type": "code",
      "metadata": {
        "colab": {
          "base_uri": "https://localhost:8080/"
        },
        "id": "J2T4bcAnEuIP",
        "outputId": "5390d40a-9f73-43a5-c017-d54bbc448b32"
      },
      "execution_count": 11,
      "outputs": [
        {
          "output_type": "stream",
          "name": "stdout",
          "text": [
            "Daily Temperatures:\n",
            " [32 24 25 31 27 32 26 33 20 20 33 25 29 20 22 32 27 29 23 28 33 30 20 24\n",
            " 30 30 22 28 28 33]\n",
            "Weekly Averages:\n",
            " [28.5        26.16666667 26.5        26.33333333 28.5       ]\n"
          ]
        }
      ]
    },
    {
      "cell_type": "code",
      "source": [],
      "metadata": {
        "id": "ZMdPe9KiEiVn"
      },
      "execution_count": null,
      "outputs": []
    }
  ]
}